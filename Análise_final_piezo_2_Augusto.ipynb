{
 "cells": [
  {
   "cell_type": "markdown",
   "id": "d6a34052-ff42-447d-b430-d5df5b82dc9e",
   "metadata": {},
   "source": [
    "# Análise de dados de nível estático observados no piezômetro 112/Riacho Guaraíra\n",
    "\n",
    "### Obs: trabalho reaalizados apenas com dados de 2018, retirados de duas estações."
   ]
  },
  {
   "cell_type": "markdown",
   "id": "9a413603-95ea-47bf-b729-89aee06d2d7c",
   "metadata": {},
   "source": [
    "#### 1ª etapa:Junção dos dois arquivos disponibilizados em um único arquivo formato csv, através de uma ferrramenta de inteligência artificial.\n",
    "\n",
    "##### _obs:achei melhor fazer assim, porque tive problemas com o \"concat\" em outros trabalhos nesse meu computador, ok?_"
   ]
  },
  {
   "cell_type": "markdown",
   "id": "5ef23883-0bfe-48f7-a98f-c57f6c18a7f5",
   "metadata": {},
   "source": [
    "#### 2ª etapa: Carregar o arquivo dentro do jupyter notebook"
   ]
  },
  {
   "cell_type": "code",
   "execution_count": 2,
   "id": "f00b94bd-274c-4945-b53e-b714d95c85bb",
   "metadata": {},
   "outputs": [],
   "source": [
    "import pandas as pd # carregando a biblioteca que vai ser utilizada para o trabalho"
   ]
  },
  {
   "cell_type": "code",
   "execution_count": 3,
   "id": "64a7713c-0e56-4d59-b35a-a37f480befa4",
   "metadata": {},
   "outputs": [],
   "source": [
    "\n",
    "df = pd.read_csv(r\"C:\\Users\\AUGUSTO\\Desktop\\Trabalho piezometros\\juncao_estacoes.csv\", header=None)\n",
    "\n",
    "# Novamente, eu já carreguei direto aqui, sem concatenar, porque fiz a junção do arquivo com inteligência artificial."
   ]
  },
  {
   "cell_type": "code",
   "execution_count": 4,
   "id": "50d23368-b417-477a-b748-d16521912729",
   "metadata": {},
   "outputs": [
    {
     "data": {
      "text/html": [
       "<div>\n",
       "<style scoped>\n",
       "    .dataframe tbody tr th:only-of-type {\n",
       "        vertical-align: middle;\n",
       "    }\n",
       "\n",
       "    .dataframe tbody tr th {\n",
       "        vertical-align: top;\n",
       "    }\n",
       "\n",
       "    .dataframe thead th {\n",
       "        text-align: right;\n",
       "    }\n",
       "</style>\n",
       "<table border=\"1\" class=\"dataframe\">\n",
       "  <thead>\n",
       "    <tr style=\"text-align: right;\">\n",
       "      <th></th>\n",
       "      <th>0</th>\n",
       "      <th>1</th>\n",
       "      <th>2</th>\n",
       "      <th>3</th>\n",
       "      <th>4</th>\n",
       "      <th>5</th>\n",
       "      <th>6</th>\n",
       "      <th>7</th>\n",
       "      <th>8</th>\n",
       "      <th>9</th>\n",
       "    </tr>\n",
       "  </thead>\n",
       "  <tbody>\n",
       "    <tr>\n",
       "      <th>0</th>\n",
       "      <td>112</td>\n",
       "      <td>2017</td>\n",
       "      <td>243</td>\n",
       "      <td>23</td>\n",
       "      <td>15</td>\n",
       "      <td>0.745</td>\n",
       "      <td>28/08/17 15:25:50</td>\n",
       "      <td>1.544 m</td>\n",
       "      <td>Nível estático</td>\n",
       "      <td>0.700 m</td>\n",
       "    </tr>\n",
       "    <tr>\n",
       "      <th>1</th>\n",
       "      <td>112</td>\n",
       "      <td>2017</td>\n",
       "      <td>243</td>\n",
       "      <td>23</td>\n",
       "      <td>30</td>\n",
       "      <td>0.745</td>\n",
       "      <td>NaN</td>\n",
       "      <td>NaN</td>\n",
       "      <td>NaN</td>\n",
       "      <td>NaN</td>\n",
       "    </tr>\n",
       "    <tr>\n",
       "      <th>2</th>\n",
       "      <td>112</td>\n",
       "      <td>2017</td>\n",
       "      <td>243</td>\n",
       "      <td>23</td>\n",
       "      <td>45</td>\n",
       "      <td>0.750</td>\n",
       "      <td>NaN</td>\n",
       "      <td>NaN</td>\n",
       "      <td>NaN</td>\n",
       "      <td>NaN</td>\n",
       "    </tr>\n",
       "    <tr>\n",
       "      <th>3</th>\n",
       "      <td>112</td>\n",
       "      <td>2017</td>\n",
       "      <td>244</td>\n",
       "      <td>0</td>\n",
       "      <td>0</td>\n",
       "      <td>0.745</td>\n",
       "      <td>NaN</td>\n",
       "      <td>NaN</td>\n",
       "      <td>NaN</td>\n",
       "      <td>NaN</td>\n",
       "    </tr>\n",
       "    <tr>\n",
       "      <th>4</th>\n",
       "      <td>112</td>\n",
       "      <td>2017</td>\n",
       "      <td>244</td>\n",
       "      <td>0</td>\n",
       "      <td>15</td>\n",
       "      <td>0.750</td>\n",
       "      <td>NaN</td>\n",
       "      <td>NaN</td>\n",
       "      <td>NaN</td>\n",
       "      <td>NaN</td>\n",
       "    </tr>\n",
       "    <tr>\n",
       "      <th>5</th>\n",
       "      <td>112</td>\n",
       "      <td>2017</td>\n",
       "      <td>244</td>\n",
       "      <td>0</td>\n",
       "      <td>30</td>\n",
       "      <td>0.745</td>\n",
       "      <td>NaN</td>\n",
       "      <td>NaN</td>\n",
       "      <td>NaN</td>\n",
       "      <td>NaN</td>\n",
       "    </tr>\n",
       "    <tr>\n",
       "      <th>6</th>\n",
       "      <td>112</td>\n",
       "      <td>2017</td>\n",
       "      <td>244</td>\n",
       "      <td>0</td>\n",
       "      <td>45</td>\n",
       "      <td>0.745</td>\n",
       "      <td>NaN</td>\n",
       "      <td>NaN</td>\n",
       "      <td>NaN</td>\n",
       "      <td>NaN</td>\n",
       "    </tr>\n",
       "    <tr>\n",
       "      <th>7</th>\n",
       "      <td>112</td>\n",
       "      <td>2017</td>\n",
       "      <td>244</td>\n",
       "      <td>1</td>\n",
       "      <td>0</td>\n",
       "      <td>0.745</td>\n",
       "      <td>NaN</td>\n",
       "      <td>NaN</td>\n",
       "      <td>NaN</td>\n",
       "      <td>NaN</td>\n",
       "    </tr>\n",
       "    <tr>\n",
       "      <th>8</th>\n",
       "      <td>112</td>\n",
       "      <td>2017</td>\n",
       "      <td>244</td>\n",
       "      <td>1</td>\n",
       "      <td>15</td>\n",
       "      <td>0.745</td>\n",
       "      <td>NaN</td>\n",
       "      <td>NaN</td>\n",
       "      <td>NaN</td>\n",
       "      <td>NaN</td>\n",
       "    </tr>\n",
       "    <tr>\n",
       "      <th>9</th>\n",
       "      <td>112</td>\n",
       "      <td>2017</td>\n",
       "      <td>244</td>\n",
       "      <td>1</td>\n",
       "      <td>30</td>\n",
       "      <td>0.745</td>\n",
       "      <td>NaN</td>\n",
       "      <td>NaN</td>\n",
       "      <td>NaN</td>\n",
       "      <td>NaN</td>\n",
       "    </tr>\n",
       "    <tr>\n",
       "      <th>10</th>\n",
       "      <td>112</td>\n",
       "      <td>2017</td>\n",
       "      <td>244</td>\n",
       "      <td>1</td>\n",
       "      <td>45</td>\n",
       "      <td>0.750</td>\n",
       "      <td>NaN</td>\n",
       "      <td>NaN</td>\n",
       "      <td>NaN</td>\n",
       "      <td>NaN</td>\n",
       "    </tr>\n",
       "    <tr>\n",
       "      <th>11</th>\n",
       "      <td>112</td>\n",
       "      <td>2017</td>\n",
       "      <td>244</td>\n",
       "      <td>2</td>\n",
       "      <td>0</td>\n",
       "      <td>0.750</td>\n",
       "      <td>NaN</td>\n",
       "      <td>NaN</td>\n",
       "      <td>NaN</td>\n",
       "      <td>NaN</td>\n",
       "    </tr>\n",
       "    <tr>\n",
       "      <th>12</th>\n",
       "      <td>112</td>\n",
       "      <td>2017</td>\n",
       "      <td>244</td>\n",
       "      <td>2</td>\n",
       "      <td>15</td>\n",
       "      <td>0.750</td>\n",
       "      <td>NaN</td>\n",
       "      <td>NaN</td>\n",
       "      <td>NaN</td>\n",
       "      <td>NaN</td>\n",
       "    </tr>\n",
       "    <tr>\n",
       "      <th>13</th>\n",
       "      <td>112</td>\n",
       "      <td>2017</td>\n",
       "      <td>244</td>\n",
       "      <td>2</td>\n",
       "      <td>30</td>\n",
       "      <td>0.750</td>\n",
       "      <td>NaN</td>\n",
       "      <td>NaN</td>\n",
       "      <td>NaN</td>\n",
       "      <td>NaN</td>\n",
       "    </tr>\n",
       "    <tr>\n",
       "      <th>14</th>\n",
       "      <td>112</td>\n",
       "      <td>2017</td>\n",
       "      <td>244</td>\n",
       "      <td>2</td>\n",
       "      <td>45</td>\n",
       "      <td>0.756</td>\n",
       "      <td>NaN</td>\n",
       "      <td>NaN</td>\n",
       "      <td>NaN</td>\n",
       "      <td>NaN</td>\n",
       "    </tr>\n",
       "  </tbody>\n",
       "</table>\n",
       "</div>"
      ],
      "text/plain": [
       "      0     1    2   3   4      5                    6        7  \\\n",
       "0   112  2017  243  23  15  0.745    28/08/17 15:25:50  1.544 m   \n",
       "1   112  2017  243  23  30  0.745                  NaN      NaN   \n",
       "2   112  2017  243  23  45  0.750                  NaN      NaN   \n",
       "3   112  2017  244   0   0  0.745                  NaN      NaN   \n",
       "4   112  2017  244   0  15  0.750                  NaN      NaN   \n",
       "5   112  2017  244   0  30  0.745                  NaN      NaN   \n",
       "6   112  2017  244   0  45  0.745                  NaN      NaN   \n",
       "7   112  2017  244   1   0  0.745                  NaN      NaN   \n",
       "8   112  2017  244   1  15  0.745                  NaN      NaN   \n",
       "9   112  2017  244   1  30  0.745                  NaN      NaN   \n",
       "10  112  2017  244   1  45  0.750                  NaN      NaN   \n",
       "11  112  2017  244   2   0  0.750                  NaN      NaN   \n",
       "12  112  2017  244   2  15  0.750                  NaN      NaN   \n",
       "13  112  2017  244   2  30  0.750                  NaN      NaN   \n",
       "14  112  2017  244   2  45  0.756                  NaN      NaN   \n",
       "\n",
       "                 8        9  \n",
       "0   Nível estático  0.700 m  \n",
       "1              NaN      NaN  \n",
       "2              NaN      NaN  \n",
       "3              NaN      NaN  \n",
       "4              NaN      NaN  \n",
       "5              NaN      NaN  \n",
       "6              NaN      NaN  \n",
       "7              NaN      NaN  \n",
       "8              NaN      NaN  \n",
       "9              NaN      NaN  \n",
       "10             NaN      NaN  \n",
       "11             NaN      NaN  \n",
       "12             NaN      NaN  \n",
       "13             NaN      NaN  \n",
       "14             NaN      NaN  "
      ]
     },
     "execution_count": 4,
     "metadata": {},
     "output_type": "execute_result"
    }
   ],
   "source": [
    "df.head(15)"
   ]
  },
  {
   "cell_type": "code",
   "execution_count": 5,
   "id": "aa79e4e1-99aa-42cd-93c4-bc4a544492d6",
   "metadata": {},
   "outputs": [],
   "source": [
    "# Excluir as colunas 6,7,8,9, desnecssárias para a nossa análise.\n",
    "\n",
    "df_dropped = df.drop(columns=[6,7,8,9])"
   ]
  },
  {
   "cell_type": "code",
   "execution_count": 6,
   "id": "a7f8a2e0-9ac0-44da-9d5b-ea2549d8cd15",
   "metadata": {},
   "outputs": [
    {
     "data": {
      "text/html": [
       "<div>\n",
       "<style scoped>\n",
       "    .dataframe tbody tr th:only-of-type {\n",
       "        vertical-align: middle;\n",
       "    }\n",
       "\n",
       "    .dataframe tbody tr th {\n",
       "        vertical-align: top;\n",
       "    }\n",
       "\n",
       "    .dataframe thead th {\n",
       "        text-align: right;\n",
       "    }\n",
       "</style>\n",
       "<table border=\"1\" class=\"dataframe\">\n",
       "  <thead>\n",
       "    <tr style=\"text-align: right;\">\n",
       "      <th></th>\n",
       "      <th>0</th>\n",
       "      <th>1</th>\n",
       "      <th>2</th>\n",
       "      <th>3</th>\n",
       "      <th>4</th>\n",
       "      <th>5</th>\n",
       "    </tr>\n",
       "  </thead>\n",
       "  <tbody>\n",
       "    <tr>\n",
       "      <th>0</th>\n",
       "      <td>112</td>\n",
       "      <td>2017</td>\n",
       "      <td>243</td>\n",
       "      <td>23</td>\n",
       "      <td>15</td>\n",
       "      <td>0.745</td>\n",
       "    </tr>\n",
       "    <tr>\n",
       "      <th>1</th>\n",
       "      <td>112</td>\n",
       "      <td>2017</td>\n",
       "      <td>243</td>\n",
       "      <td>23</td>\n",
       "      <td>30</td>\n",
       "      <td>0.745</td>\n",
       "    </tr>\n",
       "    <tr>\n",
       "      <th>2</th>\n",
       "      <td>112</td>\n",
       "      <td>2017</td>\n",
       "      <td>243</td>\n",
       "      <td>23</td>\n",
       "      <td>45</td>\n",
       "      <td>0.750</td>\n",
       "    </tr>\n",
       "    <tr>\n",
       "      <th>3</th>\n",
       "      <td>112</td>\n",
       "      <td>2017</td>\n",
       "      <td>244</td>\n",
       "      <td>0</td>\n",
       "      <td>0</td>\n",
       "      <td>0.745</td>\n",
       "    </tr>\n",
       "    <tr>\n",
       "      <th>4</th>\n",
       "      <td>112</td>\n",
       "      <td>2017</td>\n",
       "      <td>244</td>\n",
       "      <td>0</td>\n",
       "      <td>15</td>\n",
       "      <td>0.750</td>\n",
       "    </tr>\n",
       "  </tbody>\n",
       "</table>\n",
       "</div>"
      ],
      "text/plain": [
       "     0     1    2   3   4      5\n",
       "0  112  2017  243  23  15  0.745\n",
       "1  112  2017  243  23  30  0.745\n",
       "2  112  2017  243  23  45  0.750\n",
       "3  112  2017  244   0   0  0.745\n",
       "4  112  2017  244   0  15  0.750"
      ]
     },
     "execution_count": 6,
     "metadata": {},
     "output_type": "execute_result"
    }
   ],
   "source": [
    "df_dropped.head()"
   ]
  },
  {
   "cell_type": "code",
   "execution_count": 7,
   "id": "ef47acea-18dd-44c2-b667-80535fe94ffc",
   "metadata": {},
   "outputs": [],
   "source": [
    "# Renomeando as colunas, para organizar o nosso arquivo.\n",
    "\n",
    "df_dropped.columns = [\"cod_piezo\",\"ano\",\"dia_juliano\", \"hora\", \"minutos\", \"nivel_estatico\"]"
   ]
  },
  {
   "cell_type": "code",
   "execution_count": 8,
   "id": "b4a456ff-4094-4bb3-88f9-aa829e18a0a5",
   "metadata": {},
   "outputs": [
    {
     "data": {
      "text/html": [
       "<div>\n",
       "<style scoped>\n",
       "    .dataframe tbody tr th:only-of-type {\n",
       "        vertical-align: middle;\n",
       "    }\n",
       "\n",
       "    .dataframe tbody tr th {\n",
       "        vertical-align: top;\n",
       "    }\n",
       "\n",
       "    .dataframe thead th {\n",
       "        text-align: right;\n",
       "    }\n",
       "</style>\n",
       "<table border=\"1\" class=\"dataframe\">\n",
       "  <thead>\n",
       "    <tr style=\"text-align: right;\">\n",
       "      <th></th>\n",
       "      <th>cod_piezo</th>\n",
       "      <th>ano</th>\n",
       "      <th>dia_juliano</th>\n",
       "      <th>hora</th>\n",
       "      <th>minutos</th>\n",
       "      <th>nivel_estatico</th>\n",
       "    </tr>\n",
       "  </thead>\n",
       "  <tbody>\n",
       "    <tr>\n",
       "      <th>0</th>\n",
       "      <td>112</td>\n",
       "      <td>2017</td>\n",
       "      <td>243</td>\n",
       "      <td>23</td>\n",
       "      <td>15</td>\n",
       "      <td>0.745</td>\n",
       "    </tr>\n",
       "    <tr>\n",
       "      <th>1</th>\n",
       "      <td>112</td>\n",
       "      <td>2017</td>\n",
       "      <td>243</td>\n",
       "      <td>23</td>\n",
       "      <td>30</td>\n",
       "      <td>0.745</td>\n",
       "    </tr>\n",
       "    <tr>\n",
       "      <th>2</th>\n",
       "      <td>112</td>\n",
       "      <td>2017</td>\n",
       "      <td>243</td>\n",
       "      <td>23</td>\n",
       "      <td>45</td>\n",
       "      <td>0.750</td>\n",
       "    </tr>\n",
       "    <tr>\n",
       "      <th>3</th>\n",
       "      <td>112</td>\n",
       "      <td>2017</td>\n",
       "      <td>244</td>\n",
       "      <td>0</td>\n",
       "      <td>0</td>\n",
       "      <td>0.745</td>\n",
       "    </tr>\n",
       "    <tr>\n",
       "      <th>4</th>\n",
       "      <td>112</td>\n",
       "      <td>2017</td>\n",
       "      <td>244</td>\n",
       "      <td>0</td>\n",
       "      <td>15</td>\n",
       "      <td>0.750</td>\n",
       "    </tr>\n",
       "    <tr>\n",
       "      <th>5</th>\n",
       "      <td>112</td>\n",
       "      <td>2017</td>\n",
       "      <td>244</td>\n",
       "      <td>0</td>\n",
       "      <td>30</td>\n",
       "      <td>0.745</td>\n",
       "    </tr>\n",
       "    <tr>\n",
       "      <th>6</th>\n",
       "      <td>112</td>\n",
       "      <td>2017</td>\n",
       "      <td>244</td>\n",
       "      <td>0</td>\n",
       "      <td>45</td>\n",
       "      <td>0.745</td>\n",
       "    </tr>\n",
       "    <tr>\n",
       "      <th>7</th>\n",
       "      <td>112</td>\n",
       "      <td>2017</td>\n",
       "      <td>244</td>\n",
       "      <td>1</td>\n",
       "      <td>0</td>\n",
       "      <td>0.745</td>\n",
       "    </tr>\n",
       "    <tr>\n",
       "      <th>8</th>\n",
       "      <td>112</td>\n",
       "      <td>2017</td>\n",
       "      <td>244</td>\n",
       "      <td>1</td>\n",
       "      <td>15</td>\n",
       "      <td>0.745</td>\n",
       "    </tr>\n",
       "    <tr>\n",
       "      <th>9</th>\n",
       "      <td>112</td>\n",
       "      <td>2017</td>\n",
       "      <td>244</td>\n",
       "      <td>1</td>\n",
       "      <td>30</td>\n",
       "      <td>0.745</td>\n",
       "    </tr>\n",
       "    <tr>\n",
       "      <th>10</th>\n",
       "      <td>112</td>\n",
       "      <td>2017</td>\n",
       "      <td>244</td>\n",
       "      <td>1</td>\n",
       "      <td>45</td>\n",
       "      <td>0.750</td>\n",
       "    </tr>\n",
       "    <tr>\n",
       "      <th>11</th>\n",
       "      <td>112</td>\n",
       "      <td>2017</td>\n",
       "      <td>244</td>\n",
       "      <td>2</td>\n",
       "      <td>0</td>\n",
       "      <td>0.750</td>\n",
       "    </tr>\n",
       "    <tr>\n",
       "      <th>12</th>\n",
       "      <td>112</td>\n",
       "      <td>2017</td>\n",
       "      <td>244</td>\n",
       "      <td>2</td>\n",
       "      <td>15</td>\n",
       "      <td>0.750</td>\n",
       "    </tr>\n",
       "    <tr>\n",
       "      <th>13</th>\n",
       "      <td>112</td>\n",
       "      <td>2017</td>\n",
       "      <td>244</td>\n",
       "      <td>2</td>\n",
       "      <td>30</td>\n",
       "      <td>0.750</td>\n",
       "    </tr>\n",
       "    <tr>\n",
       "      <th>14</th>\n",
       "      <td>112</td>\n",
       "      <td>2017</td>\n",
       "      <td>244</td>\n",
       "      <td>2</td>\n",
       "      <td>45</td>\n",
       "      <td>0.756</td>\n",
       "    </tr>\n",
       "  </tbody>\n",
       "</table>\n",
       "</div>"
      ],
      "text/plain": [
       "    cod_piezo   ano  dia_juliano  hora  minutos  nivel_estatico\n",
       "0         112  2017          243    23       15           0.745\n",
       "1         112  2017          243    23       30           0.745\n",
       "2         112  2017          243    23       45           0.750\n",
       "3         112  2017          244     0        0           0.745\n",
       "4         112  2017          244     0       15           0.750\n",
       "5         112  2017          244     0       30           0.745\n",
       "6         112  2017          244     0       45           0.745\n",
       "7         112  2017          244     1        0           0.745\n",
       "8         112  2017          244     1       15           0.745\n",
       "9         112  2017          244     1       30           0.745\n",
       "10        112  2017          244     1       45           0.750\n",
       "11        112  2017          244     2        0           0.750\n",
       "12        112  2017          244     2       15           0.750\n",
       "13        112  2017          244     2       30           0.750\n",
       "14        112  2017          244     2       45           0.756"
      ]
     },
     "execution_count": 8,
     "metadata": {},
     "output_type": "execute_result"
    }
   ],
   "source": [
    "df_dropped.head(15)"
   ]
  },
  {
   "cell_type": "code",
   "execution_count": 9,
   "id": "a4e37f2e-b359-49fc-9807-25684ab1260a",
   "metadata": {},
   "outputs": [
    {
     "name": "stdout",
     "output_type": "stream",
     "text": [
      "<class 'pandas.core.frame.DataFrame'>\n",
      "RangeIndex: 64252 entries, 0 to 64251\n",
      "Data columns (total 6 columns):\n",
      " #   Column          Non-Null Count  Dtype  \n",
      "---  ------          --------------  -----  \n",
      " 0   cod_piezo       64252 non-null  int64  \n",
      " 1   ano             64252 non-null  int64  \n",
      " 2   dia_juliano     64252 non-null  int64  \n",
      " 3   hora            64252 non-null  int64  \n",
      " 4   minutos         64252 non-null  int64  \n",
      " 5   nivel_estatico  64252 non-null  float64\n",
      "dtypes: float64(1), int64(5)\n",
      "memory usage: 2.9 MB\n"
     ]
    }
   ],
   "source": [
    "# Vamos saber mais detalhes do que estamos trabalhando:\n",
    "df_dropped.info()"
   ]
  },
  {
   "cell_type": "code",
   "execution_count": 10,
   "id": "b9c291d8-b343-4daf-b479-3d036b3c27cd",
   "metadata": {},
   "outputs": [
    {
     "data": {
      "text/plain": [
       "14002"
      ]
     },
     "execution_count": 10,
     "metadata": {},
     "output_type": "execute_result"
    }
   ],
   "source": [
    "# Com as colunas renomeadas, e o entendimento do dataset que estamos trabalhando, vamos a visualização de dados duplicados.(soma)\n",
    "df_dropped.duplicated().sum()\n"
   ]
  },
  {
   "cell_type": "code",
   "execution_count": 11,
   "id": "4fc1658c-04f3-44cf-8a8a-d25fe2ce88b0",
   "metadata": {},
   "outputs": [
    {
     "name": "stdout",
     "output_type": "stream",
     "text": [
      "cod_piezo: 64251 valores duplicados\n",
      "ano: 64249 valores duplicados\n",
      "dia_juliano: 63887 valores duplicados\n",
      "hora: 64228 valores duplicados\n",
      "minutos: 64247 valores duplicados\n",
      "nivel_estatico: 63711 valores duplicados\n"
     ]
    }
   ],
   "source": [
    "# Foram encontrados 14002 dados duplicados. Vamos analisar agora para cada coluna separadamente.\n",
    "for col in df_dropped.columns:\n",
    "    num_duplicados = df_dropped[col].duplicated().sum()\n",
    "    print(f\"{col}: {num_duplicados} valores duplicados\")\n",
    "\n",
    "# df_dropped[col].duplicated() verifica se cada valor da coluna já apareceu antes.\n",
    "#.sum() soma todos os True, ou seja, conta os duplicados (exceto a primeira ocorrência de cada valor).\n"
   ]
  },
  {
   "cell_type": "code",
   "execution_count": 12,
   "id": "273b0670-3dbc-4b5a-9010-50710cd97a6d",
   "metadata": {},
   "outputs": [],
   "source": [
    "# Vamos agora remover os valores duplicados.\n",
    "df_dropped = df_dropped.drop_duplicates()\n"
   ]
  },
  {
   "cell_type": "code",
   "execution_count": 13,
   "id": "911d64c0-ddfb-4ff5-8366-066a80f29c0e",
   "metadata": {},
   "outputs": [
    {
     "name": "stdout",
     "output_type": "stream",
     "text": [
      "<class 'pandas.core.frame.DataFrame'>\n",
      "Index: 50250 entries, 0 to 64251\n",
      "Data columns (total 6 columns):\n",
      " #   Column          Non-Null Count  Dtype  \n",
      "---  ------          --------------  -----  \n",
      " 0   cod_piezo       50250 non-null  int64  \n",
      " 1   ano             50250 non-null  int64  \n",
      " 2   dia_juliano     50250 non-null  int64  \n",
      " 3   hora            50250 non-null  int64  \n",
      " 4   minutos         50250 non-null  int64  \n",
      " 5   nivel_estatico  50250 non-null  float64\n",
      "dtypes: float64(1), int64(5)\n",
      "memory usage: 2.7 MB\n"
     ]
    }
   ],
   "source": [
    "df_dropped.info()"
   ]
  },
  {
   "cell_type": "code",
   "execution_count": 14,
   "id": "8c4af7a0-ea6b-49c9-96d5-b31a2aea0cfc",
   "metadata": {},
   "outputs": [],
   "source": [
    "# Nestes novos valores, vou colocar o sinal negativo em todos os dados da coluna nivel_estatico\n",
    "df_dropped['nivel_estatico'] = -df_dropped['nivel_estatico'].abs()\n",
    "\n",
    "#  .abs() garante que todos os valores estejam positivos antes de aplicar o sinal negativo (evita que um valor já negativo vire positivo)."
   ]
  },
  {
   "cell_type": "code",
   "execution_count": 15,
   "id": "107a3829-466c-4e03-87e8-8ae3ae210b2a",
   "metadata": {},
   "outputs": [
    {
     "data": {
      "text/html": [
       "<div>\n",
       "<style scoped>\n",
       "    .dataframe tbody tr th:only-of-type {\n",
       "        vertical-align: middle;\n",
       "    }\n",
       "\n",
       "    .dataframe tbody tr th {\n",
       "        vertical-align: top;\n",
       "    }\n",
       "\n",
       "    .dataframe thead th {\n",
       "        text-align: right;\n",
       "    }\n",
       "</style>\n",
       "<table border=\"1\" class=\"dataframe\">\n",
       "  <thead>\n",
       "    <tr style=\"text-align: right;\">\n",
       "      <th></th>\n",
       "      <th>cod_piezo</th>\n",
       "      <th>ano</th>\n",
       "      <th>dia_juliano</th>\n",
       "      <th>hora</th>\n",
       "      <th>minutos</th>\n",
       "      <th>nivel_estatico</th>\n",
       "    </tr>\n",
       "  </thead>\n",
       "  <tbody>\n",
       "    <tr>\n",
       "      <th>0</th>\n",
       "      <td>112</td>\n",
       "      <td>2017</td>\n",
       "      <td>243</td>\n",
       "      <td>23</td>\n",
       "      <td>15</td>\n",
       "      <td>-0.745</td>\n",
       "    </tr>\n",
       "    <tr>\n",
       "      <th>1</th>\n",
       "      <td>112</td>\n",
       "      <td>2017</td>\n",
       "      <td>243</td>\n",
       "      <td>23</td>\n",
       "      <td>30</td>\n",
       "      <td>-0.745</td>\n",
       "    </tr>\n",
       "    <tr>\n",
       "      <th>2</th>\n",
       "      <td>112</td>\n",
       "      <td>2017</td>\n",
       "      <td>243</td>\n",
       "      <td>23</td>\n",
       "      <td>45</td>\n",
       "      <td>-0.750</td>\n",
       "    </tr>\n",
       "    <tr>\n",
       "      <th>3</th>\n",
       "      <td>112</td>\n",
       "      <td>2017</td>\n",
       "      <td>244</td>\n",
       "      <td>0</td>\n",
       "      <td>0</td>\n",
       "      <td>-0.745</td>\n",
       "    </tr>\n",
       "    <tr>\n",
       "      <th>4</th>\n",
       "      <td>112</td>\n",
       "      <td>2017</td>\n",
       "      <td>244</td>\n",
       "      <td>0</td>\n",
       "      <td>15</td>\n",
       "      <td>-0.750</td>\n",
       "    </tr>\n",
       "    <tr>\n",
       "      <th>5</th>\n",
       "      <td>112</td>\n",
       "      <td>2017</td>\n",
       "      <td>244</td>\n",
       "      <td>0</td>\n",
       "      <td>30</td>\n",
       "      <td>-0.745</td>\n",
       "    </tr>\n",
       "    <tr>\n",
       "      <th>6</th>\n",
       "      <td>112</td>\n",
       "      <td>2017</td>\n",
       "      <td>244</td>\n",
       "      <td>0</td>\n",
       "      <td>45</td>\n",
       "      <td>-0.745</td>\n",
       "    </tr>\n",
       "    <tr>\n",
       "      <th>7</th>\n",
       "      <td>112</td>\n",
       "      <td>2017</td>\n",
       "      <td>244</td>\n",
       "      <td>1</td>\n",
       "      <td>0</td>\n",
       "      <td>-0.745</td>\n",
       "    </tr>\n",
       "    <tr>\n",
       "      <th>8</th>\n",
       "      <td>112</td>\n",
       "      <td>2017</td>\n",
       "      <td>244</td>\n",
       "      <td>1</td>\n",
       "      <td>15</td>\n",
       "      <td>-0.745</td>\n",
       "    </tr>\n",
       "    <tr>\n",
       "      <th>9</th>\n",
       "      <td>112</td>\n",
       "      <td>2017</td>\n",
       "      <td>244</td>\n",
       "      <td>1</td>\n",
       "      <td>30</td>\n",
       "      <td>-0.745</td>\n",
       "    </tr>\n",
       "    <tr>\n",
       "      <th>10</th>\n",
       "      <td>112</td>\n",
       "      <td>2017</td>\n",
       "      <td>244</td>\n",
       "      <td>1</td>\n",
       "      <td>45</td>\n",
       "      <td>-0.750</td>\n",
       "    </tr>\n",
       "    <tr>\n",
       "      <th>11</th>\n",
       "      <td>112</td>\n",
       "      <td>2017</td>\n",
       "      <td>244</td>\n",
       "      <td>2</td>\n",
       "      <td>0</td>\n",
       "      <td>-0.750</td>\n",
       "    </tr>\n",
       "    <tr>\n",
       "      <th>12</th>\n",
       "      <td>112</td>\n",
       "      <td>2017</td>\n",
       "      <td>244</td>\n",
       "      <td>2</td>\n",
       "      <td>15</td>\n",
       "      <td>-0.750</td>\n",
       "    </tr>\n",
       "    <tr>\n",
       "      <th>13</th>\n",
       "      <td>112</td>\n",
       "      <td>2017</td>\n",
       "      <td>244</td>\n",
       "      <td>2</td>\n",
       "      <td>30</td>\n",
       "      <td>-0.750</td>\n",
       "    </tr>\n",
       "    <tr>\n",
       "      <th>14</th>\n",
       "      <td>112</td>\n",
       "      <td>2017</td>\n",
       "      <td>244</td>\n",
       "      <td>2</td>\n",
       "      <td>45</td>\n",
       "      <td>-0.756</td>\n",
       "    </tr>\n",
       "  </tbody>\n",
       "</table>\n",
       "</div>"
      ],
      "text/plain": [
       "    cod_piezo   ano  dia_juliano  hora  minutos  nivel_estatico\n",
       "0         112  2017          243    23       15          -0.745\n",
       "1         112  2017          243    23       30          -0.745\n",
       "2         112  2017          243    23       45          -0.750\n",
       "3         112  2017          244     0        0          -0.745\n",
       "4         112  2017          244     0       15          -0.750\n",
       "5         112  2017          244     0       30          -0.745\n",
       "6         112  2017          244     0       45          -0.745\n",
       "7         112  2017          244     1        0          -0.745\n",
       "8         112  2017          244     1       15          -0.745\n",
       "9         112  2017          244     1       30          -0.745\n",
       "10        112  2017          244     1       45          -0.750\n",
       "11        112  2017          244     2        0          -0.750\n",
       "12        112  2017          244     2       15          -0.750\n",
       "13        112  2017          244     2       30          -0.750\n",
       "14        112  2017          244     2       45          -0.756"
      ]
     },
     "execution_count": 15,
     "metadata": {},
     "output_type": "execute_result"
    }
   ],
   "source": [
    "df_dropped.head(15)"
   ]
  },
  {
   "cell_type": "code",
   "execution_count": 16,
   "id": "e7a0fcbf-67a1-437a-be08-78c8aadb5fa8",
   "metadata": {},
   "outputs": [],
   "source": [
    "# Sucesso. Seguindo, vamos excluir os dados dos anos de 2017 e 2019 do dataframe. Existem diversas formas, mas vou usar a que mantém apenas o ano de 2018.\n",
    "df_dropped = df_dropped[df_dropped['ano'] == 2018]\n",
    "\n",
    "df_ano_2018 = df_dropped # apenas chamei meu df_dropped de algo mais escaneável, df_ano_2018, até para saber que os dados são apenas de 2018.\n",
    "\n"
   ]
  },
  {
   "cell_type": "code",
   "execution_count": 17,
   "id": "0ebc53bf-38a1-4d42-b764-57da381ebbfc",
   "metadata": {},
   "outputs": [
    {
     "data": {
      "text/html": [
       "<div>\n",
       "<style scoped>\n",
       "    .dataframe tbody tr th:only-of-type {\n",
       "        vertical-align: middle;\n",
       "    }\n",
       "\n",
       "    .dataframe tbody tr th {\n",
       "        vertical-align: top;\n",
       "    }\n",
       "\n",
       "    .dataframe thead th {\n",
       "        text-align: right;\n",
       "    }\n",
       "</style>\n",
       "<table border=\"1\" class=\"dataframe\">\n",
       "  <thead>\n",
       "    <tr style=\"text-align: right;\">\n",
       "      <th></th>\n",
       "      <th>cod_piezo</th>\n",
       "      <th>ano</th>\n",
       "      <th>dia_juliano</th>\n",
       "      <th>hora</th>\n",
       "      <th>minutos</th>\n",
       "      <th>nivel_estatico</th>\n",
       "    </tr>\n",
       "  </thead>\n",
       "  <tbody>\n",
       "    <tr>\n",
       "      <th>11715</th>\n",
       "      <td>112</td>\n",
       "      <td>2018</td>\n",
       "      <td>1</td>\n",
       "      <td>0</td>\n",
       "      <td>0</td>\n",
       "      <td>-1.505</td>\n",
       "    </tr>\n",
       "    <tr>\n",
       "      <th>11716</th>\n",
       "      <td>112</td>\n",
       "      <td>2018</td>\n",
       "      <td>1</td>\n",
       "      <td>0</td>\n",
       "      <td>15</td>\n",
       "      <td>-1.505</td>\n",
       "    </tr>\n",
       "    <tr>\n",
       "      <th>11717</th>\n",
       "      <td>112</td>\n",
       "      <td>2018</td>\n",
       "      <td>1</td>\n",
       "      <td>0</td>\n",
       "      <td>30</td>\n",
       "      <td>-1.505</td>\n",
       "    </tr>\n",
       "    <tr>\n",
       "      <th>11718</th>\n",
       "      <td>112</td>\n",
       "      <td>2018</td>\n",
       "      <td>1</td>\n",
       "      <td>0</td>\n",
       "      <td>45</td>\n",
       "      <td>-1.505</td>\n",
       "    </tr>\n",
       "    <tr>\n",
       "      <th>11719</th>\n",
       "      <td>112</td>\n",
       "      <td>2018</td>\n",
       "      <td>1</td>\n",
       "      <td>1</td>\n",
       "      <td>0</td>\n",
       "      <td>-1.505</td>\n",
       "    </tr>\n",
       "    <tr>\n",
       "      <th>11720</th>\n",
       "      <td>112</td>\n",
       "      <td>2018</td>\n",
       "      <td>1</td>\n",
       "      <td>1</td>\n",
       "      <td>15</td>\n",
       "      <td>-1.505</td>\n",
       "    </tr>\n",
       "    <tr>\n",
       "      <th>11721</th>\n",
       "      <td>112</td>\n",
       "      <td>2018</td>\n",
       "      <td>1</td>\n",
       "      <td>1</td>\n",
       "      <td>30</td>\n",
       "      <td>-1.505</td>\n",
       "    </tr>\n",
       "    <tr>\n",
       "      <th>11722</th>\n",
       "      <td>112</td>\n",
       "      <td>2018</td>\n",
       "      <td>1</td>\n",
       "      <td>1</td>\n",
       "      <td>45</td>\n",
       "      <td>-1.505</td>\n",
       "    </tr>\n",
       "    <tr>\n",
       "      <th>11723</th>\n",
       "      <td>112</td>\n",
       "      <td>2018</td>\n",
       "      <td>1</td>\n",
       "      <td>2</td>\n",
       "      <td>0</td>\n",
       "      <td>-1.505</td>\n",
       "    </tr>\n",
       "    <tr>\n",
       "      <th>11724</th>\n",
       "      <td>112</td>\n",
       "      <td>2018</td>\n",
       "      <td>1</td>\n",
       "      <td>2</td>\n",
       "      <td>15</td>\n",
       "      <td>-1.505</td>\n",
       "    </tr>\n",
       "    <tr>\n",
       "      <th>11725</th>\n",
       "      <td>112</td>\n",
       "      <td>2018</td>\n",
       "      <td>1</td>\n",
       "      <td>2</td>\n",
       "      <td>30</td>\n",
       "      <td>-1.505</td>\n",
       "    </tr>\n",
       "    <tr>\n",
       "      <th>11726</th>\n",
       "      <td>112</td>\n",
       "      <td>2018</td>\n",
       "      <td>1</td>\n",
       "      <td>2</td>\n",
       "      <td>45</td>\n",
       "      <td>-1.505</td>\n",
       "    </tr>\n",
       "    <tr>\n",
       "      <th>11727</th>\n",
       "      <td>112</td>\n",
       "      <td>2018</td>\n",
       "      <td>1</td>\n",
       "      <td>3</td>\n",
       "      <td>0</td>\n",
       "      <td>-1.505</td>\n",
       "    </tr>\n",
       "    <tr>\n",
       "      <th>11728</th>\n",
       "      <td>112</td>\n",
       "      <td>2018</td>\n",
       "      <td>1</td>\n",
       "      <td>3</td>\n",
       "      <td>15</td>\n",
       "      <td>-1.505</td>\n",
       "    </tr>\n",
       "    <tr>\n",
       "      <th>11729</th>\n",
       "      <td>112</td>\n",
       "      <td>2018</td>\n",
       "      <td>1</td>\n",
       "      <td>3</td>\n",
       "      <td>30</td>\n",
       "      <td>-1.505</td>\n",
       "    </tr>\n",
       "  </tbody>\n",
       "</table>\n",
       "</div>"
      ],
      "text/plain": [
       "       cod_piezo   ano  dia_juliano  hora  minutos  nivel_estatico\n",
       "11715        112  2018            1     0        0          -1.505\n",
       "11716        112  2018            1     0       15          -1.505\n",
       "11717        112  2018            1     0       30          -1.505\n",
       "11718        112  2018            1     0       45          -1.505\n",
       "11719        112  2018            1     1        0          -1.505\n",
       "11720        112  2018            1     1       15          -1.505\n",
       "11721        112  2018            1     1       30          -1.505\n",
       "11722        112  2018            1     1       45          -1.505\n",
       "11723        112  2018            1     2        0          -1.505\n",
       "11724        112  2018            1     2       15          -1.505\n",
       "11725        112  2018            1     2       30          -1.505\n",
       "11726        112  2018            1     2       45          -1.505\n",
       "11727        112  2018            1     3        0          -1.505\n",
       "11728        112  2018            1     3       15          -1.505\n",
       "11729        112  2018            1     3       30          -1.505"
      ]
     },
     "execution_count": 17,
     "metadata": {},
     "output_type": "execute_result"
    }
   ],
   "source": [
    "df_ano_2018.head(15)"
   ]
  },
  {
   "cell_type": "code",
   "execution_count": 18,
   "id": "fb0ea59d-1603-463d-b2ae-4a4e774e7808",
   "metadata": {},
   "outputs": [
    {
     "name": "stdout",
     "output_type": "stream",
     "text": [
      "<class 'pandas.core.frame.DataFrame'>\n",
      "Index: 35039 entries, 11715 to 60755\n",
      "Data columns (total 6 columns):\n",
      " #   Column          Non-Null Count  Dtype  \n",
      "---  ------          --------------  -----  \n",
      " 0   cod_piezo       35039 non-null  int64  \n",
      " 1   ano             35039 non-null  int64  \n",
      " 2   dia_juliano     35039 non-null  int64  \n",
      " 3   hora            35039 non-null  int64  \n",
      " 4   minutos         35039 non-null  int64  \n",
      " 5   nivel_estatico  35039 non-null  float64\n",
      "dtypes: float64(1), int64(5)\n",
      "memory usage: 1.9 MB\n"
     ]
    }
   ],
   "source": [
    "df_ano_2018.info()"
   ]
  },
  {
   "cell_type": "markdown",
   "id": "97b23d08-ee25-4a0d-9f4a-c00d40df87d5",
   "metadata": {},
   "source": [
    "# Tranformação de dados relativos a data e hora de observação"
   ]
  },
  {
   "cell_type": "markdown",
   "id": "2991015d-df70-48f1-b533-ca31a9038df0",
   "metadata": {},
   "source": [
    "<div style=\"background-color: #f0f8ff; border-left: 6px solid #4682b4; padding: 16px; font-family: 'Segoe UI', Tahoma, Geneva, Verdana, sans-serif; font-size: 16px; line-height: 1.6; border-radius: 8px; box-shadow: 2px 2px 6px rgba(0,0,0,0.1);\">\n",
    "\n",
    "<strong>Curiosidade interessante sobre os calendários:</strong><br><br>\n",
    "O calendário juliano foi criado por Júlio César em 46 a.C., baseado em um ano solar de 365,25 dias. Com o tempo, acumulou um erro de cerca de 11 minutos por ano em relação ao ano solar real. Para corrigir esse desvio, o calendário gregoriano foi instituído pelo Papa Gregório XIII em 1582.\n",
    "\n",
    "</div>"
   ]
  },
  {
   "cell_type": "markdown",
   "id": "0c764527-7982-42bf-8ee3-928565e864d8",
   "metadata": {},
   "source": [
    "#### 1º Passo: Converter do calendário juliano (dia do ano) para data gregoriana"
   ]
  },
  {
   "cell_type": "code",
   "execution_count": 19,
   "id": "964cc27f-1eb8-427f-9b9b-c169cf604505",
   "metadata": {},
   "outputs": [],
   "source": [
    "df_ano_2018['data'] = pd.to_datetime(df_ano_2018['ano'] * 1000 + df_ano_2018['dia_juliano'], format='%Y%j')\n",
    "\n",
    "# Converte o ano e o dia juliano em uma data real no formato YYYY-MM-DD\n",
    "# 1. Multiplica o ano por 1000 e soma o dia juliano para formar algo como 2018001, 2018032, etc.\n",
    "# 2. Usa pd.to_datetime com o formato '%Y%j', onde:\n",
    "#    - %Y é o ano (ex: 2018)\n",
    "#    - %j é o dia juliano (de 001 a 365 ou 366)\n",
    "# 3. Cria uma nova coluna 'data' com a data correspondente ao ano e dia juliano\n",
    "# df_ano_2018['data'] = pd.to_datetime(df_ano_2018['ano'] * 1000 + df_ano_2018['dia_juliano'], format='%Y%j')\n"
   ]
  },
  {
   "cell_type": "markdown",
   "id": "9a55efe1-8b50-46d6-9ac9-8dec49d6cf03",
   "metadata": {},
   "source": [
    "#### 2º Passo: formatar hora e minutos com dois dígitos"
   ]
  },
  {
   "cell_type": "code",
   "execution_count": 20,
   "id": "623a3866-ca5b-4d9c-97ac-35d1cf8e5e29",
   "metadata": {},
   "outputs": [],
   "source": [
    "df_ano_2018['hora_str'] = df_ano_2018['hora'].astype(str).str.zfill(2)       # ex: 5 fica '05'\n",
    "df_ano_2018['minutos_str'] = df_ano_2018['minutos'].astype(str).str.zfill(2) # ex: 7 fica '07'"
   ]
  },
  {
   "cell_type": "markdown",
   "id": "1335ac4a-55cd-4330-9448-f789f181f67a",
   "metadata": {},
   "source": [
    "#### 3º Passo: concatenar para criar string de hora no formato HH:MI:SS "
   ]
  },
  {
   "cell_type": "code",
   "execution_count": 21,
   "id": "cd61cfd1-a681-4c87-99da-afdd86fbf206",
   "metadata": {},
   "outputs": [],
   "source": [
    "df_ano_2018['hora_formatada'] = df_ano_2018['hora_str'] + ':' + df_ano_2018['minutos_str'] + ':00'\n",
    "\n",
    "# Cria a coluna 'hora_formatada' no formato 'HH:MM:SS'\n",
    "# Junta as colunas de hora e minuto (como strings) e adiciona ':00' como segundos\n",
    "# Exemplo: '08' + ':' + '30' + ':00' = '08:30:00'\n",
    "\n"
   ]
  },
  {
   "cell_type": "markdown",
   "id": "10ffef38-a6e2-4fde-b652-5fa619413628",
   "metadata": {},
   "source": [
    "#### 4º Passo: concatenar data com hora e transformar em datetime completo "
   ]
  },
  {
   "cell_type": "code",
   "execution_count": 22,
   "id": "e20dbb0f-efba-41bc-b269-3af13434832c",
   "metadata": {},
   "outputs": [],
   "source": [
    "df_ano_2018['datahora_str'] = df_ano_2018['data'].dt.strftime('%Y-%m-%d') + ' ' + df_ano_2018['hora_formatada']\n",
    "df_ano_2018['datahora'] = pd.to_datetime(df_ano_2018['datahora_str'], format='%Y-%m-%d %H:%M:%S')"
   ]
  },
  {
   "cell_type": "markdown",
   "id": "12812a6c-f68b-4504-927b-6b3577235afa",
   "metadata": {},
   "source": [
    "#### 5º Passo: manter apenas as colunas desejadas e definir datahora como índice"
   ]
  },
  {
   "cell_type": "code",
   "execution_count": 23,
   "id": "4e77b9db-bc7e-4ed6-943f-7b323f0e7fb1",
   "metadata": {},
   "outputs": [],
   "source": [
    "df_ano_2018 = df_ano_2018[['cod_piezo', 'nivel_estatico', 'datahora']].set_index('datahora')"
   ]
  },
  {
   "cell_type": "code",
   "execution_count": 24,
   "id": "c523bf84-9f81-44ea-8d2f-5838121def1d",
   "metadata": {},
   "outputs": [
    {
     "data": {
      "text/html": [
       "<div>\n",
       "<style scoped>\n",
       "    .dataframe tbody tr th:only-of-type {\n",
       "        vertical-align: middle;\n",
       "    }\n",
       "\n",
       "    .dataframe tbody tr th {\n",
       "        vertical-align: top;\n",
       "    }\n",
       "\n",
       "    .dataframe thead th {\n",
       "        text-align: right;\n",
       "    }\n",
       "</style>\n",
       "<table border=\"1\" class=\"dataframe\">\n",
       "  <thead>\n",
       "    <tr style=\"text-align: right;\">\n",
       "      <th></th>\n",
       "      <th>cod_piezo</th>\n",
       "      <th>nivel_estatico</th>\n",
       "    </tr>\n",
       "    <tr>\n",
       "      <th>datahora</th>\n",
       "      <th></th>\n",
       "      <th></th>\n",
       "    </tr>\n",
       "  </thead>\n",
       "  <tbody>\n",
       "    <tr>\n",
       "      <th>2018-01-01 00:00:00</th>\n",
       "      <td>112</td>\n",
       "      <td>-1.505</td>\n",
       "    </tr>\n",
       "    <tr>\n",
       "      <th>2018-01-01 00:15:00</th>\n",
       "      <td>112</td>\n",
       "      <td>-1.505</td>\n",
       "    </tr>\n",
       "    <tr>\n",
       "      <th>2018-01-01 00:30:00</th>\n",
       "      <td>112</td>\n",
       "      <td>-1.505</td>\n",
       "    </tr>\n",
       "    <tr>\n",
       "      <th>2018-01-01 00:45:00</th>\n",
       "      <td>112</td>\n",
       "      <td>-1.505</td>\n",
       "    </tr>\n",
       "    <tr>\n",
       "      <th>2018-01-01 01:00:00</th>\n",
       "      <td>112</td>\n",
       "      <td>-1.505</td>\n",
       "    </tr>\n",
       "    <tr>\n",
       "      <th>2018-01-01 01:15:00</th>\n",
       "      <td>112</td>\n",
       "      <td>-1.505</td>\n",
       "    </tr>\n",
       "    <tr>\n",
       "      <th>2018-01-01 01:30:00</th>\n",
       "      <td>112</td>\n",
       "      <td>-1.505</td>\n",
       "    </tr>\n",
       "    <tr>\n",
       "      <th>2018-01-01 01:45:00</th>\n",
       "      <td>112</td>\n",
       "      <td>-1.505</td>\n",
       "    </tr>\n",
       "    <tr>\n",
       "      <th>2018-01-01 02:00:00</th>\n",
       "      <td>112</td>\n",
       "      <td>-1.505</td>\n",
       "    </tr>\n",
       "    <tr>\n",
       "      <th>2018-01-01 02:15:00</th>\n",
       "      <td>112</td>\n",
       "      <td>-1.505</td>\n",
       "    </tr>\n",
       "    <tr>\n",
       "      <th>2018-01-01 02:30:00</th>\n",
       "      <td>112</td>\n",
       "      <td>-1.505</td>\n",
       "    </tr>\n",
       "    <tr>\n",
       "      <th>2018-01-01 02:45:00</th>\n",
       "      <td>112</td>\n",
       "      <td>-1.505</td>\n",
       "    </tr>\n",
       "    <tr>\n",
       "      <th>2018-01-01 03:00:00</th>\n",
       "      <td>112</td>\n",
       "      <td>-1.505</td>\n",
       "    </tr>\n",
       "    <tr>\n",
       "      <th>2018-01-01 03:15:00</th>\n",
       "      <td>112</td>\n",
       "      <td>-1.505</td>\n",
       "    </tr>\n",
       "    <tr>\n",
       "      <th>2018-01-01 03:30:00</th>\n",
       "      <td>112</td>\n",
       "      <td>-1.505</td>\n",
       "    </tr>\n",
       "  </tbody>\n",
       "</table>\n",
       "</div>"
      ],
      "text/plain": [
       "                     cod_piezo  nivel_estatico\n",
       "datahora                                      \n",
       "2018-01-01 00:00:00        112          -1.505\n",
       "2018-01-01 00:15:00        112          -1.505\n",
       "2018-01-01 00:30:00        112          -1.505\n",
       "2018-01-01 00:45:00        112          -1.505\n",
       "2018-01-01 01:00:00        112          -1.505\n",
       "2018-01-01 01:15:00        112          -1.505\n",
       "2018-01-01 01:30:00        112          -1.505\n",
       "2018-01-01 01:45:00        112          -1.505\n",
       "2018-01-01 02:00:00        112          -1.505\n",
       "2018-01-01 02:15:00        112          -1.505\n",
       "2018-01-01 02:30:00        112          -1.505\n",
       "2018-01-01 02:45:00        112          -1.505\n",
       "2018-01-01 03:00:00        112          -1.505\n",
       "2018-01-01 03:15:00        112          -1.505\n",
       "2018-01-01 03:30:00        112          -1.505"
      ]
     },
     "execution_count": 24,
     "metadata": {},
     "output_type": "execute_result"
    }
   ],
   "source": [
    "df_ano_2018.head(15) #Verificar como estão os dados"
   ]
  },
  {
   "cell_type": "markdown",
   "id": "c7029977-bc6d-4a1d-a974-a9fdde585baa",
   "metadata": {},
   "source": [
    "# Visualização e análise de dados final"
   ]
  },
  {
   "cell_type": "markdown",
   "id": "0a8db0d1-b1a9-437b-8f7b-73cf154a1633",
   "metadata": {},
   "source": [
    "#### 1.Estatísticas descritivas para dados de **15 em 15 minutos**"
   ]
  },
  {
   "cell_type": "code",
   "execution_count": 33,
   "id": "6f72d891-c1f9-4c03-b90b-261ea009628b",
   "metadata": {},
   "outputs": [
    {
     "data": {
      "text/html": [
       "<div>\n",
       "<style scoped>\n",
       "    .dataframe tbody tr th:only-of-type {\n",
       "        vertical-align: middle;\n",
       "    }\n",
       "\n",
       "    .dataframe tbody tr th {\n",
       "        vertical-align: top;\n",
       "    }\n",
       "\n",
       "    .dataframe thead th {\n",
       "        text-align: right;\n",
       "    }\n",
       "</style>\n",
       "<table border=\"1\" class=\"dataframe\">\n",
       "  <thead>\n",
       "    <tr style=\"text-align: right;\">\n",
       "      <th></th>\n",
       "      <th>cod_piezo</th>\n",
       "      <th>nivel_estatico</th>\n",
       "    </tr>\n",
       "  </thead>\n",
       "  <tbody>\n",
       "    <tr>\n",
       "      <th>count</th>\n",
       "      <td>35039.0</td>\n",
       "      <td>35039.000000</td>\n",
       "    </tr>\n",
       "    <tr>\n",
       "      <th>mean</th>\n",
       "      <td>112.0</td>\n",
       "      <td>-1.161831</td>\n",
       "    </tr>\n",
       "    <tr>\n",
       "      <th>std</th>\n",
       "      <td>0.0</td>\n",
       "      <td>0.374451</td>\n",
       "    </tr>\n",
       "    <tr>\n",
       "      <th>min</th>\n",
       "      <td>112.0</td>\n",
       "      <td>-1.905000</td>\n",
       "    </tr>\n",
       "    <tr>\n",
       "      <th>25%</th>\n",
       "      <td>112.0</td>\n",
       "      <td>-1.460000</td>\n",
       "    </tr>\n",
       "    <tr>\n",
       "      <th>50%</th>\n",
       "      <td>112.0</td>\n",
       "      <td>-1.112000</td>\n",
       "    </tr>\n",
       "    <tr>\n",
       "      <th>75%</th>\n",
       "      <td>112.0</td>\n",
       "      <td>-0.855000</td>\n",
       "    </tr>\n",
       "    <tr>\n",
       "      <th>max</th>\n",
       "      <td>112.0</td>\n",
       "      <td>-0.438000</td>\n",
       "    </tr>\n",
       "  </tbody>\n",
       "</table>\n",
       "</div>"
      ],
      "text/plain": [
       "       cod_piezo  nivel_estatico\n",
       "count    35039.0    35039.000000\n",
       "mean       112.0       -1.161831\n",
       "std          0.0        0.374451\n",
       "min        112.0       -1.905000\n",
       "25%        112.0       -1.460000\n",
       "50%        112.0       -1.112000\n",
       "75%        112.0       -0.855000\n",
       "max        112.0       -0.438000"
      ]
     },
     "execution_count": 33,
     "metadata": {},
     "output_type": "execute_result"
    }
   ],
   "source": [
    "df_ano_2018.describe()\n"
   ]
  },
  {
   "cell_type": "markdown",
   "id": "f2625cfc-1236-47af-9788-b81dadde896a",
   "metadata": {},
   "source": [
    "#### 2.Criar gráficos de linha, boxplot e histograma (apenas com a biblioteca pandas)"
   ]
  },
  {
   "cell_type": "code",
   "execution_count": 34,
   "id": "eb01bacd-f570-4155-be4d-85955ab267d3",
   "metadata": {},
   "outputs": [
    {
     "data": {
      "text/plain": [
       "<Axes: title={'center': 'Nível Estático - Linha'}, xlabel='datahora'>"
      ]
     },
     "execution_count": 34,
     "metadata": {},
     "output_type": "execute_result"
    },
    {
     "data": {
      "image/png": "[encoded data removed]",
      "text/plain": [
       "<Figure size 1000x400 with 1 Axes>"
      ]
     },
     "metadata": {},
     "output_type": "display_data"
    }
   ],
   "source": [
    "#Gráfico de linha\n",
    "df_ano_2018['nivel_estatico'].plot(title='Nível Estático - Linha', figsize=(10, 4))\n"
   ]
  },
  {
   "cell_type": "code",
   "execution_count": 35,
   "id": "188cded1-625b-4075-88c8-21a88fbd0e67",
   "metadata": {},
   "outputs": [
    {
     "data": {
      "text/plain": [
       "<Axes: >"
      ]
     },
     "execution_count": 35,
     "metadata": {},
     "output_type": "execute_result"
    },
    {
     "data": {
      "image/png": "[encoded data removed]",
      "text/plain": [
       "<Figure size 640x480 with 1 Axes>"
      ]
     },
     "metadata": {},
     "output_type": "display_data"
    }
   ],
   "source": [
    "#Gráfico Boxplot\n",
    "df_ano_2018.boxplot(column='nivel_estatico')\n"
   ]
  },
  {
   "cell_type": "code",
   "execution_count": 36,
   "id": "1b9f4fb5-b58d-4ac8-a7cb-cbc25d135398",
   "metadata": {},
   "outputs": [
    {
     "data": {
      "text/plain": [
       "<Axes: title={'center': 'Histograma do Nível Estático'}, ylabel='Frequency'>"
      ]
     },
     "execution_count": 36,
     "metadata": {},
     "output_type": "execute_result"
    },
    {
     "data": {
      "image/png": "[encoded data removed]",
      "text/plain": [
       "<Figure size 640x480 with 1 Axes>"
      ]
     },
     "metadata": {},
     "output_type": "display_data"
    }
   ],
   "source": [
    "# Grágico de histograma\n",
    "df_ano_2018['nivel_estatico'].plot(kind='hist', bins=30, title='Histograma do Nível Estático')\n"
   ]
  },
  {
   "cell_type": "markdown",
   "id": "6471fa5a-6dc2-4d02-a506-d4fad9821805",
   "metadata": {},
   "source": [
    "#### 1.Estatísticas descritivas para dados para dos **dados médios diários**"
   ]
  },
  {
   "cell_type": "code",
   "execution_count": 45,
   "id": "f2c67fc4-e869-4366-984b-231abaa3217e",
   "metadata": {},
   "outputs": [],
   "source": [
    "df_diario = df_ano_2018.resample('D').mean() # Dados médios diários"
   ]
  },
  {
   "cell_type": "code",
   "execution_count": 46,
   "id": "7e5c119d-8e3f-4247-9a5e-4b516b457db1",
   "metadata": {},
   "outputs": [
    {
     "data": {
      "text/html": [
       "<div>\n",
       "<style scoped>\n",
       "    .dataframe tbody tr th:only-of-type {\n",
       "        vertical-align: middle;\n",
       "    }\n",
       "\n",
       "    .dataframe tbody tr th {\n",
       "        vertical-align: top;\n",
       "    }\n",
       "\n",
       "    .dataframe thead th {\n",
       "        text-align: right;\n",
       "    }\n",
       "</style>\n",
       "<table border=\"1\" class=\"dataframe\">\n",
       "  <thead>\n",
       "    <tr style=\"text-align: right;\">\n",
       "      <th></th>\n",
       "      <th>cod_piezo</th>\n",
       "      <th>nivel_estatico</th>\n",
       "    </tr>\n",
       "    <tr>\n",
       "      <th>datahora</th>\n",
       "      <th></th>\n",
       "      <th></th>\n",
       "    </tr>\n",
       "  </thead>\n",
       "  <tbody>\n",
       "    <tr>\n",
       "      <th>2018-01-01</th>\n",
       "      <td>112.0</td>\n",
       "      <td>-1.508312</td>\n",
       "    </tr>\n",
       "    <tr>\n",
       "      <th>2018-01-02</th>\n",
       "      <td>112.0</td>\n",
       "      <td>-1.514281</td>\n",
       "    </tr>\n",
       "    <tr>\n",
       "      <th>2018-01-03</th>\n",
       "      <td>112.0</td>\n",
       "      <td>-1.519938</td>\n",
       "    </tr>\n",
       "    <tr>\n",
       "      <th>2018-01-04</th>\n",
       "      <td>112.0</td>\n",
       "      <td>-1.530208</td>\n",
       "    </tr>\n",
       "    <tr>\n",
       "      <th>2018-01-05</th>\n",
       "      <td>112.0</td>\n",
       "      <td>-1.539000</td>\n",
       "    </tr>\n",
       "    <tr>\n",
       "      <th>2018-01-06</th>\n",
       "      <td>112.0</td>\n",
       "      <td>-1.545844</td>\n",
       "    </tr>\n",
       "    <tr>\n",
       "      <th>2018-01-07</th>\n",
       "      <td>112.0</td>\n",
       "      <td>-1.552729</td>\n",
       "    </tr>\n",
       "    <tr>\n",
       "      <th>2018-01-08</th>\n",
       "      <td>112.0</td>\n",
       "      <td>-1.561000</td>\n",
       "    </tr>\n",
       "    <tr>\n",
       "      <th>2018-01-09</th>\n",
       "      <td>112.0</td>\n",
       "      <td>-1.569500</td>\n",
       "    </tr>\n",
       "    <tr>\n",
       "      <th>2018-01-10</th>\n",
       "      <td>112.0</td>\n",
       "      <td>-1.573521</td>\n",
       "    </tr>\n",
       "  </tbody>\n",
       "</table>\n",
       "</div>"
      ],
      "text/plain": [
       "            cod_piezo  nivel_estatico\n",
       "datahora                             \n",
       "2018-01-01      112.0       -1.508312\n",
       "2018-01-02      112.0       -1.514281\n",
       "2018-01-03      112.0       -1.519938\n",
       "2018-01-04      112.0       -1.530208\n",
       "2018-01-05      112.0       -1.539000\n",
       "2018-01-06      112.0       -1.545844\n",
       "2018-01-07      112.0       -1.552729\n",
       "2018-01-08      112.0       -1.561000\n",
       "2018-01-09      112.0       -1.569500\n",
       "2018-01-10      112.0       -1.573521"
      ]
     },
     "execution_count": 46,
     "metadata": {},
     "output_type": "execute_result"
    }
   ],
   "source": [
    "df_diario.head(10)"
   ]
  },
  {
   "cell_type": "markdown",
   "id": "4ffe591e-91e5-4df6-81a9-e3fa17ae5c9e",
   "metadata": {},
   "source": [
    "#### 2.Criar gráficos de linha, boxplot e histograma (apenas com a biblioteca pandas)"
   ]
  },
  {
   "cell_type": "code",
   "execution_count": 49,
   "id": "03bb5aa1-553b-446d-9365-4e86196a6504",
   "metadata": {},
   "outputs": [
    {
     "data": {
      "text/plain": [
       "<Axes: title={'center': 'Nível Estático - Média Diária'}, xlabel='datahora'>"
      ]
     },
     "execution_count": 49,
     "metadata": {},
     "output_type": "execute_result"
    },
    {
     "data": {
      "image/png": "[encoded data removed]",
      "text/plain": [
       "<Figure size 1200x400 with 1 Axes>"
      ]
     },
     "metadata": {},
     "output_type": "display_data"
    }
   ],
   "source": [
    "#Gráfico de linha\n",
    "\n",
    "df_diario['nivel_estatico'].plot(title='Nível Estático - Média Diária', figsize=(12, 4))\n"
   ]
  },
  {
   "cell_type": "code",
   "execution_count": 48,
   "id": "b2f68d19-c0f2-4d46-81a5-c2fa65f9ee1c",
   "metadata": {},
   "outputs": [
    {
     "data": {
      "text/plain": [
       "<Axes: >"
      ]
     },
     "execution_count": 48,
     "metadata": {},
     "output_type": "execute_result"
    },
    {
     "data": {
      "image/png": "[encoded data removed]",
      "text/plain": [
       "<Figure size 640x480 with 1 Axes>"
      ]
     },
     "metadata": {},
     "output_type": "display_data"
    }
   ],
   "source": [
    "# Gráfico Boxplot\n",
    "\n",
    "df_diario.boxplot(column='nivel_estatico')\n"
   ]
  },
  {
   "cell_type": "code",
   "execution_count": 50,
   "id": "55aeaa15-d94a-47b4-9f6a-f4a319f87938",
   "metadata": {},
   "outputs": [
    {
     "data": {
      "text/plain": [
       "<Axes: >"
      ]
     },
     "execution_count": 50,
     "metadata": {},
     "output_type": "execute_result"
    },
    {
     "data": {
      "image/png": "[encoded data removed]",
      "text/plain": [
       "<Figure size 640x480 with 1 Axes>"
      ]
     },
     "metadata": {},
     "output_type": "display_data"
    }
   ],
   "source": [
    "# Histograma\n",
    "\n",
    "df_diario['nivel_estatico'].hist(bins=30)\n"
   ]
  },
  {
   "cell_type": "markdown",
   "id": "cfa294e6-ff6c-4421-a38c-0621cbd05183",
   "metadata": {},
   "source": [
    "#### 1.Estatísticas descritivas para dados para dos **dados médios mensais**"
   ]
  },
  {
   "cell_type": "code",
   "execution_count": 54,
   "id": "7937355b-6031-47f4-96a1-d710a8555c48",
   "metadata": {},
   "outputs": [],
   "source": [
    "df_mensal = df_ano_2018.resample('ME').mean()"
   ]
  },
  {
   "cell_type": "code",
   "execution_count": 55,
   "id": "09b8e7bc-8328-4a74-b4ba-4e1e30404abc",
   "metadata": {},
   "outputs": [
    {
     "data": {
      "text/html": [
       "<div>\n",
       "<style scoped>\n",
       "    .dataframe tbody tr th:only-of-type {\n",
       "        vertical-align: middle;\n",
       "    }\n",
       "\n",
       "    .dataframe tbody tr th {\n",
       "        vertical-align: top;\n",
       "    }\n",
       "\n",
       "    .dataframe thead th {\n",
       "        text-align: right;\n",
       "    }\n",
       "</style>\n",
       "<table border=\"1\" class=\"dataframe\">\n",
       "  <thead>\n",
       "    <tr style=\"text-align: right;\">\n",
       "      <th></th>\n",
       "      <th>cod_piezo</th>\n",
       "      <th>nivel_estatico</th>\n",
       "    </tr>\n",
       "    <tr>\n",
       "      <th>datahora</th>\n",
       "      <th></th>\n",
       "      <th></th>\n",
       "    </tr>\n",
       "  </thead>\n",
       "  <tbody>\n",
       "    <tr>\n",
       "      <th>2018-01-31</th>\n",
       "      <td>112.0</td>\n",
       "      <td>-1.458494</td>\n",
       "    </tr>\n",
       "    <tr>\n",
       "      <th>2018-02-28</th>\n",
       "      <td>112.0</td>\n",
       "      <td>-1.229159</td>\n",
       "    </tr>\n",
       "    <tr>\n",
       "      <th>2018-03-31</th>\n",
       "      <td>112.0</td>\n",
       "      <td>-1.149865</td>\n",
       "    </tr>\n",
       "    <tr>\n",
       "      <th>2018-04-30</th>\n",
       "      <td>112.0</td>\n",
       "      <td>-0.879653</td>\n",
       "    </tr>\n",
       "    <tr>\n",
       "      <th>2018-05-31</th>\n",
       "      <td>112.0</td>\n",
       "      <td>-0.623410</td>\n",
       "    </tr>\n",
       "    <tr>\n",
       "      <th>2018-06-30</th>\n",
       "      <td>112.0</td>\n",
       "      <td>-0.785455</td>\n",
       "    </tr>\n",
       "    <tr>\n",
       "      <th>2018-07-31</th>\n",
       "      <td>112.0</td>\n",
       "      <td>-0.771395</td>\n",
       "    </tr>\n",
       "    <tr>\n",
       "      <th>2018-08-31</th>\n",
       "      <td>112.0</td>\n",
       "      <td>-0.966187</td>\n",
       "    </tr>\n",
       "    <tr>\n",
       "      <th>2018-09-30</th>\n",
       "      <td>112.0</td>\n",
       "      <td>-1.187150</td>\n",
       "    </tr>\n",
       "    <tr>\n",
       "      <th>2018-10-31</th>\n",
       "      <td>112.0</td>\n",
       "      <td>-1.414922</td>\n",
       "    </tr>\n",
       "    <tr>\n",
       "      <th>2018-11-30</th>\n",
       "      <td>112.0</td>\n",
       "      <td>-1.648422</td>\n",
       "    </tr>\n",
       "    <tr>\n",
       "      <th>2018-12-31</th>\n",
       "      <td>112.0</td>\n",
       "      <td>-1.829470</td>\n",
       "    </tr>\n",
       "  </tbody>\n",
       "</table>\n",
       "</div>"
      ],
      "text/plain": [
       "            cod_piezo  nivel_estatico\n",
       "datahora                             \n",
       "2018-01-31      112.0       -1.458494\n",
       "2018-02-28      112.0       -1.229159\n",
       "2018-03-31      112.0       -1.149865\n",
       "2018-04-30      112.0       -0.879653\n",
       "2018-05-31      112.0       -0.623410\n",
       "2018-06-30      112.0       -0.785455\n",
       "2018-07-31      112.0       -0.771395\n",
       "2018-08-31      112.0       -0.966187\n",
       "2018-09-30      112.0       -1.187150\n",
       "2018-10-31      112.0       -1.414922\n",
       "2018-11-30      112.0       -1.648422\n",
       "2018-12-31      112.0       -1.829470"
      ]
     },
     "execution_count": 55,
     "metadata": {},
     "output_type": "execute_result"
    }
   ],
   "source": [
    "df_mensal.head(15)"
   ]
  },
  {
   "cell_type": "markdown",
   "id": "e0e1e865-2eed-4f37-8a8d-2be726bca1af",
   "metadata": {},
   "source": [
    "#### 2.Criar gráficos de linha, boxplot e histograma (apenas com a biblioteca pandas)"
   ]
  },
  {
   "cell_type": "code",
   "execution_count": 56,
   "id": "11dce31d-9abe-430b-9c3c-d66c097df806",
   "metadata": {},
   "outputs": [
    {
     "data": {
      "text/plain": [
       "<Axes: title={'center': 'Nível Estático - Média Mensal'}, xlabel='datahora'>"
      ]
     },
     "execution_count": 56,
     "metadata": {},
     "output_type": "execute_result"
    },
    {
     "data": {
      "image/png": "[encoded data removed]",
      "text/plain": [
       "<Figure size 1200x400 with 1 Axes>"
      ]
     },
     "metadata": {},
     "output_type": "display_data"
    }
   ],
   "source": [
    "# Gráfico de linha\n",
    "\n",
    "df_mensal['nivel_estatico'].plot(title='Nível Estático - Média Mensal', figsize=(12, 4), marker='o')\n"
   ]
  },
  {
   "cell_type": "code",
   "execution_count": 58,
   "id": "93580f79-cf6e-489c-b73c-91c08338a069",
   "metadata": {},
   "outputs": [
    {
     "data": {
      "text/plain": [
       "<Axes: >"
      ]
     },
     "execution_count": 58,
     "metadata": {},
     "output_type": "execute_result"
    },
    {
     "data": {
      "image/png": "[encoded data removed]",
      "text/plain": [
       "<Figure size 640x480 with 1 Axes>"
      ]
     },
     "metadata": {},
     "output_type": "display_data"
    }
   ],
   "source": [
    "# Gráfico Boxplot\n",
    "\n",
    "df_mensal.boxplot(column='nivel_estatico')"
   ]
  },
  {
   "cell_type": "code",
   "execution_count": 59,
   "id": "c116de13-6a63-4981-a362-db88052d1ebd",
   "metadata": {},
   "outputs": [
    {
     "data": {
      "text/plain": [
       "<Axes: >"
      ]
     },
     "execution_count": 59,
     "metadata": {},
     "output_type": "execute_result"
    },
    {
     "data": {
      "image/png": "[encoded data removed]",
      "text/plain": [
       "<Figure size 640x480 with 1 Axes>"
      ]
     },
     "metadata": {},
     "output_type": "display_data"
    }
   ],
   "source": [
    "# Histograma\n",
    "\n",
    "df_mensal['nivel_estatico'].hist(bins=12)"
   ]
  },
  {
   "cell_type": "markdown",
   "id": "5e6831a8-dfec-4894-bece-4f82d5ba6667",
   "metadata": {},
   "source": [
    "<div style=\"border: 2px solid #4CAF50; border-radius: 10px; padding: 20px; font-family: Arial, sans-serif; background-color: #f9fff9; color: #333;\">\n",
    "  <h2 style=\"color: #2e7d32;\">📌 Análise Final</h2>\n",
    "  <p><strong>Período analisado:</strong> 2018 (dados com passo de 15 em 15 minutos).</p>\n",
    "  <p><strong>Parâmetros avaliados:</strong> nível estático médio, distribuição, variações diárias e mensais.</p>\n",
    "  <ul>\n",
    "    <li>✔️ Os dados foram limpos, filtrando apenas o ano de 2018.</li>\n",
    "    <li>✔️ Datas e horários foram unificados e convertidos corretamente.</li>\n",
    "    <li>✔️ Foram plotados gráficos de linha, boxplot e histograma utilizando apenas <code>pandas</code>.</li>\n",
    "    <li>✔️ Análises descritivas foram feitas para as séries de 15min, médias diárias e mensais.</li>\n",
    "  </ul>\n",
    "  <p><strong>Observações:</strong> A série temporal apresenta variações sazonais e pode ser útil para monitoramento e estudos de tendência. A etapa de resample foi fundamental para avaliar o comportamento em diferentes escalas temporais.</p>\n",
    "</div>\n"
   ]
  },
  {
   "cell_type": "code",
   "execution_count": null,
   "id": "d725a5f2-4db9-441e-9921-4c275e7dcdf8",
   "metadata": {},
   "outputs": [],
   "source": []
  }
 ],
 "metadata": {
  "kernelspec": {
   "display_name": "Python 3 (ipykernel)",
   "language": "python",
   "name": "python3"
  },
  "language_info": {
   "codemirror_mode": {
    "name": "ipython",
    "version": 3
   },
   "file_extension": ".py",
   "mimetype": "text/x-python",
   "name": "python",
   "nbconvert_exporter": "python",
   "pygments_lexer": "ipython3",
   "version": "3.12.7"
  }
 },
 "nbformat": 4,
 "nbformat_minor": 5
}
